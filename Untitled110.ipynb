{
 "cells": [
  {
   "cell_type": "code",
   "execution_count": 2,
   "id": "bc996797",
   "metadata": {},
   "outputs": [
    {
     "name": "stdout",
     "output_type": "stream",
     "text": [
      "The best move is: (2, 1)\n"
     ]
    }
   ],
   "source": [
    "WIN_SCORE = 10\n",
    "LOSE_SCORE = -10\n",
    "def is_moves_left(board):\n",
    "    for row in board:\n",
    "        for cell in row:\n",
    "            if cell == '':\n",
    "                return True\n",
    "    return False\n",
    "def evaluate(board):\n",
    "    for row in board:\n",
    "        if row[0] == row[1] == row[2] and row[0] != '':\n",
    "            return WIN_SCORE if row[0] == 'O' else LOSE_SCORE\n",
    "    for col in range(3):\n",
    "        if board[0][col] == board[1][col] == board[2][col] and board[0][col] != '':\n",
    "            return WIN_SCORE if board[0][col] == 'O' else LOSE_SCORE\n",
    "    if board[0][0] == board[1][1] == board[2][2] and board[0][0] != '':\n",
    "        return WIN_SCORE if board[0][0] == 'O' else LOSE_SCORE\n",
    "    if board[0][2] == board[1][1] == board[2][0] and board[0][2] != '':\n",
    "        return WIN_SCORE if board[0][2] == 'O' else LOSE_SCORE\n",
    "    return 0\n",
    "def minimax(board, depth, is_maximizing_player):\n",
    "    score = evaluate(board)\n",
    "    if score == WIN_SCORE or score == LOSE_SCORE:\n",
    "        return score - depth if score == WIN_SCORE else score + depth\n",
    "    if not is_moves_left(board):\n",
    "        return 0\n",
    "    if is_maximizing_player:\n",
    "        best_val = float('-inf')\n",
    "        for i in range(3):\n",
    "            for j in range(3):\n",
    "                if board[i][j] == '':\n",
    "                    board[i][j] = 'O'\n",
    "                    best_val = max(best_val, minimax(board, depth + 1, False))\n",
    "                    board[i][j] = ''\n",
    "        return best_val\n",
    "    else:\n",
    "        best_val = float('inf')\n",
    "        for i in range(3):\n",
    "            for j in range(3):\n",
    "                if board[i][j] == '':\n",
    "                    board[i][j] = 'X'\n",
    "                    best_val = min(best_val, minimax(board, depth + 1, True))\n",
    "                    board[i][j] = ''\n",
    "        return best_val\n",
    "def find_best_move(board):\n",
    "    best_move = None\n",
    "    best_val = float('-inf')\n",
    "    for i in range(3):\n",
    "        for j in range(3):\n",
    "            if board[i][j] == '':\n",
    "                board[i][j] = 'O'\n",
    "                move_val = minimax(board, 0, False)\n",
    "                board[i][j] = ''\n",
    "                if move_val > best_val:\n",
    "                    best_val = move_val\n",
    "                    best_move = (i, j)\n",
    "    return best_move\n",
    "board = [\n",
    "    ['X', 'O', 'X'],\n",
    "    ['O', '', 'X'],\n",
    "    ['', '', 'O']\n",
    "]\n",
    "print(\"The best move is:\", find_best_move(board))\n"
   ]
  },
  {
   "cell_type": "code",
   "execution_count": null,
   "id": "adf07044",
   "metadata": {},
   "outputs": [],
   "source": []
  }
 ],
 "metadata": {
  "kernelspec": {
   "display_name": "Python 3 (ipykernel)",
   "language": "python",
   "name": "python3"
  },
  "language_info": {
   "codemirror_mode": {
    "name": "ipython",
    "version": 3
   },
   "file_extension": ".py",
   "mimetype": "text/x-python",
   "name": "python",
   "nbconvert_exporter": "python",
   "pygments_lexer": "ipython3",
   "version": "3.9.12"
  }
 },
 "nbformat": 4,
 "nbformat_minor": 5
}
